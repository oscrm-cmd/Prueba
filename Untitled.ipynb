{
 "cells": [
  {
   "cell_type": "code",
   "execution_count": null,
   "id": "185181e2-7843-44f3-b4c5-1482715e0a55",
   "metadata": {},
   "outputs": [],
   "source": []
  }
 ],
 "metadata": {
  "kernelspec": {
   "display_name": "",
   "name": ""
  },
  "language_info": {
   "name": ""
  }
 },
 "nbformat": 4,
 "nbformat_minor": 5
}
