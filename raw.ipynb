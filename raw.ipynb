{
 "cells": [
  {
   "cell_type": "raw",
   "id": "13d91c17-58ac-4515-8bd6-571e590f3547",
   "metadata": {},
   "source": [
    "NAda mensaje de prueba modo RAW. !!!"
   ]
  }
 ],
 "metadata": {
  "kernelspec": {
   "display_name": "prueba",
   "language": "python",
   "name": "prueba"
  },
  "language_info": {
   "codemirror_mode": {
    "name": "ipython",
    "version": 3
   },
   "file_extension": ".py",
   "mimetype": "text/x-python",
   "name": "python",
   "nbconvert_exporter": "python",
   "pygments_lexer": "ipython3",
   "version": "3.10.16"
  }
 },
 "nbformat": 4,
 "nbformat_minor": 5
}
