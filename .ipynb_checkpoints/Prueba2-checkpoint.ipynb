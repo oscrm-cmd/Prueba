{
 "cells": [
  {
   "cell_type": "code",
   "execution_count": 1,
   "id": "d40611e0-0fb2-476f-bf8d-d64d4e2841fb",
   "metadata": {},
   "outputs": [
    {
     "name": "stdout",
     "output_type": "stream",
     "text": [
      "Hola todos\n"
     ]
    }
   ],
   "source": [
    "print(\"Hola todos\")"
   ]
  },
  {
   "cell_type": "code",
   "execution_count": null,
   "id": "798d5820-f690-4198-be3a-d1f2488b58ae",
   "metadata": {},
   "outputs": [],
   "source": []
  }
 ],
 "metadata": {
  "kernelspec": {
   "display_name": "Python 3 (ipykernel)",
   "language": "python",
   "name": "python3"
  },
  "language_info": {
   "codemirror_mode": {
    "name": "ipython",
    "version": 3
   },
   "file_extension": ".py",
   "mimetype": "text/x-python",
   "name": "python",
   "nbconvert_exporter": "python",
   "pygments_lexer": "ipython3",
   "version": "3.10.16"
  }
 },
 "nbformat": 4,
 "nbformat_minor": 5
}
